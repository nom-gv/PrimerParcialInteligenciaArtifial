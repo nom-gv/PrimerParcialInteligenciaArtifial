{
 "cells": [
  {
   "cell_type": "markdown",
   "id": "e4ca6ab0",
   "metadata": {},
   "source": [
    "## **Importar Libreria para la lectura del archivo**"
   ]
  },
  {
   "cell_type": "code",
   "execution_count": 24,
   "id": "4b871258",
   "metadata": {},
   "outputs": [],
   "source": [
    "import pandas as pd"
   ]
  },
  {
   "cell_type": "markdown",
   "id": "02489efb",
   "metadata": {},
   "source": [
    "### **Lectura del archivo y Manejo de DataFrame**"
   ]
  },
  {
   "cell_type": "code",
   "execution_count": 35,
   "id": "4ce7d3ca",
   "metadata": {
    "scrolled": false
   },
   "outputs": [
    {
     "data": {
      "text/html": [
       "<div>\n",
       "<style scoped>\n",
       "    .dataframe tbody tr th:only-of-type {\n",
       "        vertical-align: middle;\n",
       "    }\n",
       "\n",
       "    .dataframe tbody tr th {\n",
       "        vertical-align: top;\n",
       "    }\n",
       "\n",
       "    .dataframe thead th {\n",
       "        text-align: right;\n",
       "    }\n",
       "</style>\n",
       "<table border=\"1\" class=\"dataframe\">\n",
       "  <thead>\n",
       "    <tr style=\"text-align: right;\">\n",
       "      <th></th>\n",
       "      <th>Decesos</th>\n",
       "      <th>Edad</th>\n",
       "      <th>Sexo</th>\n",
       "      <th>Esteroides</th>\n",
       "      <th>Antivirales</th>\n",
       "      <th>Fatiga</th>\n",
       "      <th>Malestar</th>\n",
       "      <th>Anorexia</th>\n",
       "      <th>Higado Grande</th>\n",
       "      <th>Firmeza del Higado</th>\n",
       "      <th>Bazo Pulpable</th>\n",
       "      <th>Angioma aracniforme</th>\n",
       "      <th>Ascitis</th>\n",
       "      <th>Varices</th>\n",
       "      <th>Bilirrubina</th>\n",
       "      <th>ALP</th>\n",
       "      <th>AST</th>\n",
       "      <th>Albumina</th>\n",
       "      <th>Protime</th>\n",
       "      <th>Histologia</th>\n",
       "    </tr>\n",
       "  </thead>\n",
       "  <tbody>\n",
       "    <tr>\n",
       "      <th>0</th>\n",
       "      <td>2</td>\n",
       "      <td>30</td>\n",
       "      <td>2</td>\n",
       "      <td>1</td>\n",
       "      <td>2</td>\n",
       "      <td>2</td>\n",
       "      <td>2</td>\n",
       "      <td>2</td>\n",
       "      <td>1</td>\n",
       "      <td>2</td>\n",
       "      <td>2</td>\n",
       "      <td>2</td>\n",
       "      <td>2</td>\n",
       "      <td>2</td>\n",
       "      <td>1.00</td>\n",
       "      <td>85</td>\n",
       "      <td>18</td>\n",
       "      <td>4.0</td>\n",
       "      <td>?</td>\n",
       "      <td>1</td>\n",
       "    </tr>\n",
       "    <tr>\n",
       "      <th>1</th>\n",
       "      <td>2</td>\n",
       "      <td>50</td>\n",
       "      <td>1</td>\n",
       "      <td>1</td>\n",
       "      <td>2</td>\n",
       "      <td>1</td>\n",
       "      <td>2</td>\n",
       "      <td>2</td>\n",
       "      <td>1</td>\n",
       "      <td>2</td>\n",
       "      <td>2</td>\n",
       "      <td>2</td>\n",
       "      <td>2</td>\n",
       "      <td>2</td>\n",
       "      <td>0.90</td>\n",
       "      <td>135</td>\n",
       "      <td>42</td>\n",
       "      <td>3.5</td>\n",
       "      <td>?</td>\n",
       "      <td>1</td>\n",
       "    </tr>\n",
       "    <tr>\n",
       "      <th>2</th>\n",
       "      <td>2</td>\n",
       "      <td>78</td>\n",
       "      <td>1</td>\n",
       "      <td>2</td>\n",
       "      <td>2</td>\n",
       "      <td>1</td>\n",
       "      <td>2</td>\n",
       "      <td>2</td>\n",
       "      <td>2</td>\n",
       "      <td>2</td>\n",
       "      <td>2</td>\n",
       "      <td>2</td>\n",
       "      <td>2</td>\n",
       "      <td>2</td>\n",
       "      <td>0.70</td>\n",
       "      <td>96</td>\n",
       "      <td>32</td>\n",
       "      <td>4.0</td>\n",
       "      <td>?</td>\n",
       "      <td>1</td>\n",
       "    </tr>\n",
       "    <tr>\n",
       "      <th>3</th>\n",
       "      <td>2</td>\n",
       "      <td>31</td>\n",
       "      <td>1</td>\n",
       "      <td>?</td>\n",
       "      <td>1</td>\n",
       "      <td>2</td>\n",
       "      <td>2</td>\n",
       "      <td>2</td>\n",
       "      <td>2</td>\n",
       "      <td>2</td>\n",
       "      <td>2</td>\n",
       "      <td>2</td>\n",
       "      <td>2</td>\n",
       "      <td>2</td>\n",
       "      <td>0.70</td>\n",
       "      <td>46</td>\n",
       "      <td>52</td>\n",
       "      <td>4.0</td>\n",
       "      <td>80</td>\n",
       "      <td>1</td>\n",
       "    </tr>\n",
       "    <tr>\n",
       "      <th>4</th>\n",
       "      <td>2</td>\n",
       "      <td>34</td>\n",
       "      <td>1</td>\n",
       "      <td>2</td>\n",
       "      <td>2</td>\n",
       "      <td>2</td>\n",
       "      <td>2</td>\n",
       "      <td>2</td>\n",
       "      <td>2</td>\n",
       "      <td>2</td>\n",
       "      <td>2</td>\n",
       "      <td>2</td>\n",
       "      <td>2</td>\n",
       "      <td>2</td>\n",
       "      <td>1.00</td>\n",
       "      <td>?</td>\n",
       "      <td>200</td>\n",
       "      <td>4.0</td>\n",
       "      <td>?</td>\n",
       "      <td>1</td>\n",
       "    </tr>\n",
       "    <tr>\n",
       "      <th>...</th>\n",
       "      <td>...</td>\n",
       "      <td>...</td>\n",
       "      <td>...</td>\n",
       "      <td>...</td>\n",
       "      <td>...</td>\n",
       "      <td>...</td>\n",
       "      <td>...</td>\n",
       "      <td>...</td>\n",
       "      <td>...</td>\n",
       "      <td>...</td>\n",
       "      <td>...</td>\n",
       "      <td>...</td>\n",
       "      <td>...</td>\n",
       "      <td>...</td>\n",
       "      <td>...</td>\n",
       "      <td>...</td>\n",
       "      <td>...</td>\n",
       "      <td>...</td>\n",
       "      <td>...</td>\n",
       "      <td>...</td>\n",
       "    </tr>\n",
       "    <tr>\n",
       "      <th>150</th>\n",
       "      <td>1</td>\n",
       "      <td>46</td>\n",
       "      <td>1</td>\n",
       "      <td>2</td>\n",
       "      <td>2</td>\n",
       "      <td>1</td>\n",
       "      <td>1</td>\n",
       "      <td>1</td>\n",
       "      <td>2</td>\n",
       "      <td>2</td>\n",
       "      <td>2</td>\n",
       "      <td>1</td>\n",
       "      <td>1</td>\n",
       "      <td>1</td>\n",
       "      <td>7.60</td>\n",
       "      <td>?</td>\n",
       "      <td>242</td>\n",
       "      <td>3.3</td>\n",
       "      <td>50</td>\n",
       "      <td>2</td>\n",
       "    </tr>\n",
       "    <tr>\n",
       "      <th>151</th>\n",
       "      <td>2</td>\n",
       "      <td>44</td>\n",
       "      <td>1</td>\n",
       "      <td>2</td>\n",
       "      <td>2</td>\n",
       "      <td>1</td>\n",
       "      <td>2</td>\n",
       "      <td>2</td>\n",
       "      <td>2</td>\n",
       "      <td>1</td>\n",
       "      <td>2</td>\n",
       "      <td>2</td>\n",
       "      <td>2</td>\n",
       "      <td>2</td>\n",
       "      <td>0.90</td>\n",
       "      <td>126</td>\n",
       "      <td>142</td>\n",
       "      <td>4.3</td>\n",
       "      <td>?</td>\n",
       "      <td>2</td>\n",
       "    </tr>\n",
       "    <tr>\n",
       "      <th>152</th>\n",
       "      <td>2</td>\n",
       "      <td>61</td>\n",
       "      <td>1</td>\n",
       "      <td>1</td>\n",
       "      <td>2</td>\n",
       "      <td>1</td>\n",
       "      <td>1</td>\n",
       "      <td>2</td>\n",
       "      <td>1</td>\n",
       "      <td>1</td>\n",
       "      <td>2</td>\n",
       "      <td>1</td>\n",
       "      <td>2</td>\n",
       "      <td>2</td>\n",
       "      <td>0.80</td>\n",
       "      <td>75</td>\n",
       "      <td>20</td>\n",
       "      <td>4.1</td>\n",
       "      <td>?</td>\n",
       "      <td>2</td>\n",
       "    </tr>\n",
       "    <tr>\n",
       "      <th>153</th>\n",
       "      <td>2</td>\n",
       "      <td>53</td>\n",
       "      <td>2</td>\n",
       "      <td>1</td>\n",
       "      <td>2</td>\n",
       "      <td>1</td>\n",
       "      <td>2</td>\n",
       "      <td>2</td>\n",
       "      <td>2</td>\n",
       "      <td>2</td>\n",
       "      <td>1</td>\n",
       "      <td>1</td>\n",
       "      <td>2</td>\n",
       "      <td>1</td>\n",
       "      <td>1.50</td>\n",
       "      <td>81</td>\n",
       "      <td>19</td>\n",
       "      <td>4.1</td>\n",
       "      <td>48</td>\n",
       "      <td>2</td>\n",
       "    </tr>\n",
       "    <tr>\n",
       "      <th>154</th>\n",
       "      <td>1</td>\n",
       "      <td>43</td>\n",
       "      <td>1</td>\n",
       "      <td>2</td>\n",
       "      <td>2</td>\n",
       "      <td>1</td>\n",
       "      <td>2</td>\n",
       "      <td>2</td>\n",
       "      <td>2</td>\n",
       "      <td>2</td>\n",
       "      <td>1</td>\n",
       "      <td>1</td>\n",
       "      <td>1</td>\n",
       "      <td>2</td>\n",
       "      <td>1.20</td>\n",
       "      <td>100</td>\n",
       "      <td>19</td>\n",
       "      <td>3.1</td>\n",
       "      <td>42</td>\n",
       "      <td>2</td>\n",
       "    </tr>\n",
       "  </tbody>\n",
       "</table>\n",
       "<p>155 rows × 20 columns</p>\n",
       "</div>"
      ],
      "text/plain": [
       "     Decesos  Edad  Sexo Esteroides  Antivirales Fatiga Malestar Anorexia  \\\n",
       "0          2    30     2          1            2      2        2        2   \n",
       "1          2    50     1          1            2      1        2        2   \n",
       "2          2    78     1          2            2      1        2        2   \n",
       "3          2    31     1          ?            1      2        2        2   \n",
       "4          2    34     1          2            2      2        2        2   \n",
       "..       ...   ...   ...        ...          ...    ...      ...      ...   \n",
       "150        1    46     1          2            2      1        1        1   \n",
       "151        2    44     1          2            2      1        2        2   \n",
       "152        2    61     1          1            2      1        1        2   \n",
       "153        2    53     2          1            2      1        2        2   \n",
       "154        1    43     1          2            2      1        2        2   \n",
       "\n",
       "    Higado Grande Firmeza del Higado Bazo Pulpable Angioma aracniforme  \\\n",
       "0               1                  2             2                   2   \n",
       "1               1                  2             2                   2   \n",
       "2               2                  2             2                   2   \n",
       "3               2                  2             2                   2   \n",
       "4               2                  2             2                   2   \n",
       "..            ...                ...           ...                 ...   \n",
       "150             2                  2             2                   1   \n",
       "151             2                  1             2                   2   \n",
       "152             1                  1             2                   1   \n",
       "153             2                  2             1                   1   \n",
       "154             2                  2             1                   1   \n",
       "\n",
       "    Ascitis Varices Bilirrubina  ALP  AST Albumina Protime  Histologia  \n",
       "0         2       2        1.00   85   18      4.0       ?           1  \n",
       "1         2       2        0.90  135   42      3.5       ?           1  \n",
       "2         2       2        0.70   96   32      4.0       ?           1  \n",
       "3         2       2        0.70   46   52      4.0      80           1  \n",
       "4         2       2        1.00    ?  200      4.0       ?           1  \n",
       "..      ...     ...         ...  ...  ...      ...     ...         ...  \n",
       "150       1       1        7.60    ?  242      3.3      50           2  \n",
       "151       2       2        0.90  126  142      4.3       ?           2  \n",
       "152       2       2        0.80   75   20      4.1       ?           2  \n",
       "153       2       1        1.50   81   19      4.1      48           2  \n",
       "154       1       2        1.20  100   19      3.1      42           2  \n",
       "\n",
       "[155 rows x 20 columns]"
      ]
     },
     "execution_count": 35,
     "metadata": {},
     "output_type": "execute_result"
    }
   ],
   "source": [
    "data = pd.read_csv('https://raw.githubusercontent.com/nom-gv/DatasetHepatitis/main/hepatitis.data')\n",
    "data"
   ]
  },
  {
   "cell_type": "code",
   "execution_count": 36,
   "id": "72283f42",
   "metadata": {},
   "outputs": [
    {
     "data": {
      "text/html": [
       "<div>\n",
       "<style scoped>\n",
       "    .dataframe tbody tr th:only-of-type {\n",
       "        vertical-align: middle;\n",
       "    }\n",
       "\n",
       "    .dataframe tbody tr th {\n",
       "        vertical-align: top;\n",
       "    }\n",
       "\n",
       "    .dataframe thead th {\n",
       "        text-align: right;\n",
       "    }\n",
       "</style>\n",
       "<table border=\"1\" class=\"dataframe\">\n",
       "  <thead>\n",
       "    <tr style=\"text-align: right;\">\n",
       "      <th></th>\n",
       "      <th>Decesos</th>\n",
       "      <th>Edad</th>\n",
       "      <th>Sexo</th>\n",
       "      <th>Esteroides</th>\n",
       "      <th>Antivirales</th>\n",
       "      <th>Fatiga</th>\n",
       "      <th>Malestar</th>\n",
       "      <th>Anorexia</th>\n",
       "      <th>Higado Grande</th>\n",
       "      <th>Firmeza del Higado</th>\n",
       "      <th>Bazo Pulpable</th>\n",
       "      <th>Angioma aracniforme</th>\n",
       "      <th>Ascitis</th>\n",
       "      <th>Bilirrubina</th>\n",
       "      <th>ALP</th>\n",
       "      <th>AST</th>\n",
       "      <th>Albumina</th>\n",
       "      <th>Histologia</th>\n",
       "    </tr>\n",
       "  </thead>\n",
       "  <tbody>\n",
       "    <tr>\n",
       "      <th>0</th>\n",
       "      <td>2</td>\n",
       "      <td>30</td>\n",
       "      <td>2</td>\n",
       "      <td>1</td>\n",
       "      <td>2</td>\n",
       "      <td>2</td>\n",
       "      <td>2</td>\n",
       "      <td>2</td>\n",
       "      <td>1</td>\n",
       "      <td>2</td>\n",
       "      <td>2</td>\n",
       "      <td>2</td>\n",
       "      <td>2</td>\n",
       "      <td>1.00</td>\n",
       "      <td>85</td>\n",
       "      <td>18</td>\n",
       "      <td>4.0</td>\n",
       "      <td>1</td>\n",
       "    </tr>\n",
       "    <tr>\n",
       "      <th>1</th>\n",
       "      <td>2</td>\n",
       "      <td>50</td>\n",
       "      <td>1</td>\n",
       "      <td>1</td>\n",
       "      <td>2</td>\n",
       "      <td>1</td>\n",
       "      <td>2</td>\n",
       "      <td>2</td>\n",
       "      <td>1</td>\n",
       "      <td>2</td>\n",
       "      <td>2</td>\n",
       "      <td>2</td>\n",
       "      <td>2</td>\n",
       "      <td>0.90</td>\n",
       "      <td>135</td>\n",
       "      <td>42</td>\n",
       "      <td>3.5</td>\n",
       "      <td>1</td>\n",
       "    </tr>\n",
       "    <tr>\n",
       "      <th>2</th>\n",
       "      <td>2</td>\n",
       "      <td>78</td>\n",
       "      <td>1</td>\n",
       "      <td>2</td>\n",
       "      <td>2</td>\n",
       "      <td>1</td>\n",
       "      <td>2</td>\n",
       "      <td>2</td>\n",
       "      <td>2</td>\n",
       "      <td>2</td>\n",
       "      <td>2</td>\n",
       "      <td>2</td>\n",
       "      <td>2</td>\n",
       "      <td>0.70</td>\n",
       "      <td>96</td>\n",
       "      <td>32</td>\n",
       "      <td>4.0</td>\n",
       "      <td>1</td>\n",
       "    </tr>\n",
       "    <tr>\n",
       "      <th>3</th>\n",
       "      <td>2</td>\n",
       "      <td>31</td>\n",
       "      <td>1</td>\n",
       "      <td>?</td>\n",
       "      <td>1</td>\n",
       "      <td>2</td>\n",
       "      <td>2</td>\n",
       "      <td>2</td>\n",
       "      <td>2</td>\n",
       "      <td>2</td>\n",
       "      <td>2</td>\n",
       "      <td>2</td>\n",
       "      <td>2</td>\n",
       "      <td>0.70</td>\n",
       "      <td>46</td>\n",
       "      <td>52</td>\n",
       "      <td>4.0</td>\n",
       "      <td>1</td>\n",
       "    </tr>\n",
       "    <tr>\n",
       "      <th>4</th>\n",
       "      <td>2</td>\n",
       "      <td>34</td>\n",
       "      <td>1</td>\n",
       "      <td>2</td>\n",
       "      <td>2</td>\n",
       "      <td>2</td>\n",
       "      <td>2</td>\n",
       "      <td>2</td>\n",
       "      <td>2</td>\n",
       "      <td>2</td>\n",
       "      <td>2</td>\n",
       "      <td>2</td>\n",
       "      <td>2</td>\n",
       "      <td>1.00</td>\n",
       "      <td>?</td>\n",
       "      <td>200</td>\n",
       "      <td>4.0</td>\n",
       "      <td>1</td>\n",
       "    </tr>\n",
       "    <tr>\n",
       "      <th>...</th>\n",
       "      <td>...</td>\n",
       "      <td>...</td>\n",
       "      <td>...</td>\n",
       "      <td>...</td>\n",
       "      <td>...</td>\n",
       "      <td>...</td>\n",
       "      <td>...</td>\n",
       "      <td>...</td>\n",
       "      <td>...</td>\n",
       "      <td>...</td>\n",
       "      <td>...</td>\n",
       "      <td>...</td>\n",
       "      <td>...</td>\n",
       "      <td>...</td>\n",
       "      <td>...</td>\n",
       "      <td>...</td>\n",
       "      <td>...</td>\n",
       "      <td>...</td>\n",
       "    </tr>\n",
       "    <tr>\n",
       "      <th>150</th>\n",
       "      <td>1</td>\n",
       "      <td>46</td>\n",
       "      <td>1</td>\n",
       "      <td>2</td>\n",
       "      <td>2</td>\n",
       "      <td>1</td>\n",
       "      <td>1</td>\n",
       "      <td>1</td>\n",
       "      <td>2</td>\n",
       "      <td>2</td>\n",
       "      <td>2</td>\n",
       "      <td>1</td>\n",
       "      <td>1</td>\n",
       "      <td>7.60</td>\n",
       "      <td>?</td>\n",
       "      <td>242</td>\n",
       "      <td>3.3</td>\n",
       "      <td>2</td>\n",
       "    </tr>\n",
       "    <tr>\n",
       "      <th>151</th>\n",
       "      <td>2</td>\n",
       "      <td>44</td>\n",
       "      <td>1</td>\n",
       "      <td>2</td>\n",
       "      <td>2</td>\n",
       "      <td>1</td>\n",
       "      <td>2</td>\n",
       "      <td>2</td>\n",
       "      <td>2</td>\n",
       "      <td>1</td>\n",
       "      <td>2</td>\n",
       "      <td>2</td>\n",
       "      <td>2</td>\n",
       "      <td>0.90</td>\n",
       "      <td>126</td>\n",
       "      <td>142</td>\n",
       "      <td>4.3</td>\n",
       "      <td>2</td>\n",
       "    </tr>\n",
       "    <tr>\n",
       "      <th>152</th>\n",
       "      <td>2</td>\n",
       "      <td>61</td>\n",
       "      <td>1</td>\n",
       "      <td>1</td>\n",
       "      <td>2</td>\n",
       "      <td>1</td>\n",
       "      <td>1</td>\n",
       "      <td>2</td>\n",
       "      <td>1</td>\n",
       "      <td>1</td>\n",
       "      <td>2</td>\n",
       "      <td>1</td>\n",
       "      <td>2</td>\n",
       "      <td>0.80</td>\n",
       "      <td>75</td>\n",
       "      <td>20</td>\n",
       "      <td>4.1</td>\n",
       "      <td>2</td>\n",
       "    </tr>\n",
       "    <tr>\n",
       "      <th>153</th>\n",
       "      <td>2</td>\n",
       "      <td>53</td>\n",
       "      <td>2</td>\n",
       "      <td>1</td>\n",
       "      <td>2</td>\n",
       "      <td>1</td>\n",
       "      <td>2</td>\n",
       "      <td>2</td>\n",
       "      <td>2</td>\n",
       "      <td>2</td>\n",
       "      <td>1</td>\n",
       "      <td>1</td>\n",
       "      <td>2</td>\n",
       "      <td>1.50</td>\n",
       "      <td>81</td>\n",
       "      <td>19</td>\n",
       "      <td>4.1</td>\n",
       "      <td>2</td>\n",
       "    </tr>\n",
       "    <tr>\n",
       "      <th>154</th>\n",
       "      <td>1</td>\n",
       "      <td>43</td>\n",
       "      <td>1</td>\n",
       "      <td>2</td>\n",
       "      <td>2</td>\n",
       "      <td>1</td>\n",
       "      <td>2</td>\n",
       "      <td>2</td>\n",
       "      <td>2</td>\n",
       "      <td>2</td>\n",
       "      <td>1</td>\n",
       "      <td>1</td>\n",
       "      <td>1</td>\n",
       "      <td>1.20</td>\n",
       "      <td>100</td>\n",
       "      <td>19</td>\n",
       "      <td>3.1</td>\n",
       "      <td>2</td>\n",
       "    </tr>\n",
       "  </tbody>\n",
       "</table>\n",
       "<p>155 rows × 18 columns</p>\n",
       "</div>"
      ],
      "text/plain": [
       "     Decesos  Edad  Sexo Esteroides  Antivirales Fatiga Malestar Anorexia  \\\n",
       "0          2    30     2          1            2      2        2        2   \n",
       "1          2    50     1          1            2      1        2        2   \n",
       "2          2    78     1          2            2      1        2        2   \n",
       "3          2    31     1          ?            1      2        2        2   \n",
       "4          2    34     1          2            2      2        2        2   \n",
       "..       ...   ...   ...        ...          ...    ...      ...      ...   \n",
       "150        1    46     1          2            2      1        1        1   \n",
       "151        2    44     1          2            2      1        2        2   \n",
       "152        2    61     1          1            2      1        1        2   \n",
       "153        2    53     2          1            2      1        2        2   \n",
       "154        1    43     1          2            2      1        2        2   \n",
       "\n",
       "    Higado Grande Firmeza del Higado Bazo Pulpable Angioma aracniforme  \\\n",
       "0               1                  2             2                   2   \n",
       "1               1                  2             2                   2   \n",
       "2               2                  2             2                   2   \n",
       "3               2                  2             2                   2   \n",
       "4               2                  2             2                   2   \n",
       "..            ...                ...           ...                 ...   \n",
       "150             2                  2             2                   1   \n",
       "151             2                  1             2                   2   \n",
       "152             1                  1             2                   1   \n",
       "153             2                  2             1                   1   \n",
       "154             2                  2             1                   1   \n",
       "\n",
       "    Ascitis Bilirrubina  ALP  AST Albumina  Histologia  \n",
       "0         2        1.00   85   18      4.0           1  \n",
       "1         2        0.90  135   42      3.5           1  \n",
       "2         2        0.70   96   32      4.0           1  \n",
       "3         2        0.70   46   52      4.0           1  \n",
       "4         2        1.00    ?  200      4.0           1  \n",
       "..      ...         ...  ...  ...      ...         ...  \n",
       "150       1        7.60    ?  242      3.3           2  \n",
       "151       2        0.90  126  142      4.3           2  \n",
       "152       2        0.80   75   20      4.1           2  \n",
       "153       2        1.50   81   19      4.1           2  \n",
       "154       1        1.20  100   19      3.1           2  \n",
       "\n",
       "[155 rows x 18 columns]"
      ]
     },
     "execution_count": 36,
     "metadata": {},
     "output_type": "execute_result"
    }
   ],
   "source": [
    "data = pd.DataFrame(data, columns=['Decesos','Edad','Sexo','Esteroides','Antivirales','Fatiga','Malestar','Anorexia','Higado Grande','Firmeza del Higado','Bazo Pulpable','Angioma aracniforme','Ascitis','Bilirrubina','ALP','AST','Albumina','Histologia'])\n",
    "data"
   ]
  },
  {
   "cell_type": "markdown",
   "id": "64eb8f23",
   "metadata": {},
   "source": [
    "## **Funciones para realizar el Ejercicio**"
   ]
  },
  {
   "cell_type": "markdown",
   "id": "02abacf3",
   "metadata": {},
   "source": [
    "Para valores vacios"
   ]
  },
  {
   "cell_type": "code",
   "execution_count": 67,
   "id": "b7fee386",
   "metadata": {},
   "outputs": [],
   "source": [
    "def isnan(num):\n",
    "    return num != num"
   ]
  },
  {
   "cell_type": "markdown",
   "id": "59f82949",
   "metadata": {},
   "source": [
    "Para Cuatiles:"
   ]
  },
  {
   "cell_type": "code",
   "execution_count": 76,
   "id": "3de5f162",
   "metadata": {},
   "outputs": [],
   "source": [
    "def cuartil(columna,nc):\n",
    "    valores = pd.to_numeric(data[columna],errors='coerce').to_list()\n",
    "    val = [x for x in valores if isnan(x) == False]\n",
    "    val.sort()\n",
    "    \n",
    "    #Posicion del cuartil 1\n",
    "    P1 = int((nc*len(val))/4)\n",
    "    \n",
    "    if(len(val)%2 == 0):\n",
    "        Q1 = (val[P1] + val[P1+1])/2\n",
    "    else:\n",
    "        Q1 = float(val[P1])\n",
    "    return Q1"
   ]
  },
  {
   "cell_type": "markdown",
   "id": "4d892ee3",
   "metadata": {},
   "source": [
    "Para Percentiles"
   ]
  },
  {
   "cell_type": "code",
   "execution_count": 97,
   "id": "565a4d3a",
   "metadata": {},
   "outputs": [],
   "source": [
    "def percentil(columna,nc):\n",
    "    valores = pd.to_numeric(data[columna],errors='coerce').to_list()\n",
    "    val = [x for x in valores if isnan(x) == False]\n",
    "    val.sort()\n",
    "    \n",
    "    #Posicion del cuartil 1\n",
    "    P1 = int((nc*len(val))/100)\n",
    "    \n",
    "    if(len(val)%2 == 0):\n",
    "        Q1 = (val[P1] + val[P1+1])/2\n",
    "    else:\n",
    "        Q1 = float(val[P1])\n",
    "    return Q1"
   ]
  },
  {
   "cell_type": "markdown",
   "id": "a3f291ad",
   "metadata": {},
   "source": [
    "### **Calculo del primer Cuartil de los Datos**"
   ]
  },
  {
   "cell_type": "markdown",
   "id": "37a490f6",
   "metadata": {},
   "source": [
    "Obtenemos que los decesos son menores al 25% de los casos detectados de hepatitis"
   ]
  },
  {
   "cell_type": "code",
   "execution_count": 77,
   "id": "c3b90821",
   "metadata": {},
   "outputs": [
    {
     "name": "stdout",
     "output_type": "stream",
     "text": [
      "Calculo del primer Cuartil de decesos:  2.0\n"
     ]
    }
   ],
   "source": [
    "print(\"Calculo del primer Cuartil de decesos: \", cuartil('Decesos',1))"
   ]
  },
  {
   "cell_type": "markdown",
   "id": "b7727480",
   "metadata": {},
   "source": [
    "Se obtuvo que hasta el 25% de personas con hepatitis se encuentran entre las edades de 7 a 32 años"
   ]
  },
  {
   "cell_type": "code",
   "execution_count": 78,
   "id": "48e7d8b5",
   "metadata": {},
   "outputs": [
    {
     "name": "stdout",
     "output_type": "stream",
     "text": [
      "Calculo del primer Cuartil de edades:  32.0\n"
     ]
    }
   ],
   "source": [
    "print(\"Calculo del primer Cuartil de edades: \", cuartil('Edad',1))"
   ]
  },
  {
   "cell_type": "markdown",
   "id": "fe0b9d06",
   "metadata": {},
   "source": [
    "Se obtuvo que hasta el 25% de personas con hepatitis son hombres"
   ]
  },
  {
   "cell_type": "code",
   "execution_count": 79,
   "id": "23b17c49",
   "metadata": {},
   "outputs": [
    {
     "name": "stdout",
     "output_type": "stream",
     "text": [
      "Calculo del primer Cuartil del sexo del paciente:  1.0\n"
     ]
    }
   ],
   "source": [
    "print(\"Calculo del primer Cuartil del sexo del paciente: \", cuartil('Sexo',1))"
   ]
  },
  {
   "cell_type": "markdown",
   "id": "b8bbdfc0",
   "metadata": {},
   "source": [
    "Se obtuvo que, de los datos obtenidos, hasta el 25% de personas con hepatitis no utilizaron esteroides"
   ]
  },
  {
   "cell_type": "code",
   "execution_count": 80,
   "id": "121ad588",
   "metadata": {},
   "outputs": [
    {
     "name": "stdout",
     "output_type": "stream",
     "text": [
      "Calculo del primer Cuartil de pacientes que utilizan Esteroides:  1.0\n"
     ]
    }
   ],
   "source": [
    "print(\"Calculo del primer Cuartil de pacientes que utilizan Esteroides: \", cuartil('Esteroides',1))"
   ]
  },
  {
   "cell_type": "markdown",
   "id": "c69fc279",
   "metadata": {},
   "source": [
    "Obtenemos que personas que no utilizaron antivirales son menores a 25% en los casos detectados de hepatitis"
   ]
  },
  {
   "cell_type": "code",
   "execution_count": 81,
   "id": "69a74d20",
   "metadata": {},
   "outputs": [
    {
     "name": "stdout",
     "output_type": "stream",
     "text": [
      "Calculo del primer Cuartil de pacientes que utilizan Antivirales:  2.0\n"
     ]
    }
   ],
   "source": [
    "print(\"Calculo del primer Cuartil de pacientes que utilizan Antivirales: \", cuartil('Antivirales',1))"
   ]
  },
  {
   "cell_type": "markdown",
   "id": "4bcdd468",
   "metadata": {},
   "source": [
    "Se obtuvo que, de los datos obtenidos, hasta el 25% de personas con hepatitis no presentaron fatiga"
   ]
  },
  {
   "cell_type": "code",
   "execution_count": 82,
   "id": "e606e9b7",
   "metadata": {},
   "outputs": [
    {
     "name": "stdout",
     "output_type": "stream",
     "text": [
      "Calculo del primer Cuartil de Fatiga en pacientes:  1.0\n"
     ]
    }
   ],
   "source": [
    "print(\"Calculo del primer Cuartil de Fatiga en pacientes: \", cuartil('Fatiga',1))"
   ]
  },
  {
   "cell_type": "markdown",
   "id": "d50037dd",
   "metadata": {},
   "source": [
    "Se obtuvo que, de los datos obtenidos, hasta el 25% de personas con hepatitis no presentaron malestar"
   ]
  },
  {
   "cell_type": "code",
   "execution_count": 83,
   "id": "d72fbf4e",
   "metadata": {},
   "outputs": [
    {
     "name": "stdout",
     "output_type": "stream",
     "text": [
      "Calculo del primer Cuartil de Malestar en pacientes:  1.0\n"
     ]
    }
   ],
   "source": [
    "print(\"Calculo del primer Cuartil de Malestar en pacientes: \", cuartil('Malestar',1))"
   ]
  },
  {
   "cell_type": "markdown",
   "id": "72dc4241",
   "metadata": {},
   "source": [
    "Obtenemos que, de los datos obtenidos, las personas que no tienen anorexia son menores a 25% en los casos detectados de hepatitis"
   ]
  },
  {
   "cell_type": "code",
   "execution_count": 84,
   "id": "a447e648",
   "metadata": {},
   "outputs": [
    {
     "name": "stdout",
     "output_type": "stream",
     "text": [
      "Calculo del primer Cuartil de anorexia en pacientes:  2.0\n"
     ]
    }
   ],
   "source": [
    "print(\"Calculo del primer Cuartil de anorexia en pacientes: \", cuartil('Anorexia',1))"
   ]
  },
  {
   "cell_type": "markdown",
   "id": "0933d2e2",
   "metadata": {},
   "source": [
    "Obtenemos que, de los datos obtenidos, las personas que no tienen el higado grande son menores a 25% en los casos detectados de hepatitis"
   ]
  },
  {
   "cell_type": "code",
   "execution_count": 85,
   "id": "ca61e696",
   "metadata": {},
   "outputs": [
    {
     "name": "stdout",
     "output_type": "stream",
     "text": [
      "Calculo del primer Cuartil de Higado Grande en pacientes:  2.0\n"
     ]
    }
   ],
   "source": [
    "print(\"Calculo del primer Cuartil de Higado Grande en pacientes: \", cuartil('Higado Grande',1))"
   ]
  },
  {
   "cell_type": "markdown",
   "id": "a375bf78",
   "metadata": {},
   "source": [
    "Se obtuvo que, de los datos obtenidos, hasta el 25% de personas con hepatitis no tienen firmeza del higado"
   ]
  },
  {
   "cell_type": "code",
   "execution_count": 86,
   "id": "88c1b6e7",
   "metadata": {},
   "outputs": [
    {
     "name": "stdout",
     "output_type": "stream",
     "text": [
      "Calculo del primer Cuartil de la Firmeza del Higado en los pacientes:  1.0\n"
     ]
    }
   ],
   "source": [
    "print(\"Calculo del primer Cuartil de la Firmeza del Higado en los pacientes: \", cuartil('Firmeza del Higado',1))"
   ]
  },
  {
   "cell_type": "markdown",
   "id": "8ec796ce",
   "metadata": {},
   "source": [
    "Obtenemos que, de los datos obtenidos, las personas que no tienen el bazo pulpable son menores a 25% en los casos detectados de hepatitis"
   ]
  },
  {
   "cell_type": "code",
   "execution_count": 88,
   "id": "ddd3899e",
   "metadata": {},
   "outputs": [
    {
     "name": "stdout",
     "output_type": "stream",
     "text": [
      "Calculo del primer Cuartil de Bazo pulpable en pacientes:  2.0\n"
     ]
    }
   ],
   "source": [
    "print(\"Calculo del primer Cuartil de Bazo pulpable en pacientes: \", cuartil('Bazo Pulpable',1))"
   ]
  },
  {
   "cell_type": "markdown",
   "id": "3a4f6a4a",
   "metadata": {},
   "source": [
    "Se obtuvo que, de los datos obtenidos, hasta el 25% de personas con hepatitis no tienen Angioma Aracniforme"
   ]
  },
  {
   "cell_type": "code",
   "execution_count": 89,
   "id": "c7a4e584",
   "metadata": {},
   "outputs": [
    {
     "name": "stdout",
     "output_type": "stream",
     "text": [
      "Calculo del primer Cuartil de Angioma aracniforme en pacientes:  1.0\n"
     ]
    }
   ],
   "source": [
    "print(\"Calculo del primer Cuartil de Angioma aracniforme en pacientes: \", cuartil('Angioma aracniforme',1))"
   ]
  },
  {
   "cell_type": "markdown",
   "id": "78e1b25d",
   "metadata": {},
   "source": [
    "Obtenemos que, de los datos obtenidos, las personas que no tienen Ascitis son menores a 25% en los casos detectados de hepatitis"
   ]
  },
  {
   "cell_type": "code",
   "execution_count": 90,
   "id": "743a73bd",
   "metadata": {},
   "outputs": [
    {
     "name": "stdout",
     "output_type": "stream",
     "text": [
      "Calculo del primer Cuartil de Ascitis en pacientes:  2.0\n"
     ]
    }
   ],
   "source": [
    "print(\"Calculo del primer Cuartil de Ascitis en pacientes: \", cuartil('Ascitis',1))"
   ]
  },
  {
   "cell_type": "markdown",
   "id": "4fe354e9",
   "metadata": {},
   "source": [
    "Obtenemos que, de los datos obtenidos, las personas que tienen niveles de Bilirrubina entre 0.3 y 0.7 se encuentran entre el 25% los casos detectados de hepatitis"
   ]
  },
  {
   "cell_type": "code",
   "execution_count": 92,
   "id": "d1f1a496",
   "metadata": {},
   "outputs": [
    {
     "name": "stdout",
     "output_type": "stream",
     "text": [
      "Calculo del primer Cuartil de Niveles Bilirrubina en pacientes:  0.7\n"
     ]
    }
   ],
   "source": [
    "print(\"Calculo del primer Cuartil de Niveles Bilirrubina en pacientes: \", cuartil('Bilirrubina',1))"
   ]
  },
  {
   "cell_type": "markdown",
   "id": "d40de7c0",
   "metadata": {},
   "source": [
    "Obtenemos que, de los datos obtenidos, las personas que tienen niveles de Fosfatasa Alcalina entre 30 y 74 se encuentran entre el 25% los casos detectados de hepatitis"
   ]
  },
  {
   "cell_type": "code",
   "execution_count": 93,
   "id": "712d180c",
   "metadata": {},
   "outputs": [
    {
     "name": "stdout",
     "output_type": "stream",
     "text": [
      "Calculo del primer Cuartil de Niveles Fosfatasa alcalina en pacientes:  74.5\n"
     ]
    }
   ],
   "source": [
    "print(\"Calculo del primer Cuartil de Niveles Fosfatasa alcalina en pacientes: \", cuartil('ALP',1))"
   ]
  },
  {
   "cell_type": "markdown",
   "id": "75eca726",
   "metadata": {},
   "source": [
    "Obtenemos que, de los datos obtenidos, las personas que tienen niveles de Aspartato Transaminasa entre 13 y 31 se encuentran entre el 25% los casos detectados de hepatitis"
   ]
  },
  {
   "cell_type": "code",
   "execution_count": 94,
   "id": "c901ea4e",
   "metadata": {},
   "outputs": [
    {
     "name": "stdout",
     "output_type": "stream",
     "text": [
      "Calculo del primer Cuartil de Niveles Aspartato transaminasa en pacientes:  31.0\n"
     ]
    }
   ],
   "source": [
    "print(\"Calculo del primer Cuartil de Niveles Aspartato transaminasa en pacientes: \", cuartil('AST',1))"
   ]
  },
  {
   "cell_type": "markdown",
   "id": "666a0712",
   "metadata": {},
   "source": [
    "Obtenemos que, de los datos obtenidos, las personas que tienen valores de Albumina entre 2.1 y 3.4 se encuentran entre el 25% los casos detectados de hepatitis"
   ]
  },
  {
   "cell_type": "code",
   "execution_count": 95,
   "id": "b2e14e8e",
   "metadata": {},
   "outputs": [
    {
     "name": "stdout",
     "output_type": "stream",
     "text": [
      "Calculo del primer Cuartil de Niveles Aspartato transaminasa en pacientes:  3.4\n"
     ]
    }
   ],
   "source": [
    "print(\"Calculo del primer Cuartil de Niveles Aspartato transaminasa en pacientes: \", cuartil('Albumina',1))"
   ]
  },
  {
   "cell_type": "markdown",
   "id": "894e5152",
   "metadata": {},
   "source": [
    "Se obtuvo que, de los datos obtenidos, hasta el 25% de personas con hepatitis no presentan Histologia"
   ]
  },
  {
   "cell_type": "code",
   "execution_count": 96,
   "id": "d7cc75cb",
   "metadata": {},
   "outputs": [
    {
     "name": "stdout",
     "output_type": "stream",
     "text": [
      "Calculo del primer Cuartil de Histologia en pacientes:  1.0\n"
     ]
    }
   ],
   "source": [
    "print(\"Calculo del primer Cuartil de Histologia en pacientes: \", cuartil('Histologia',1))"
   ]
  },
  {
   "cell_type": "markdown",
   "id": "c2eb9281",
   "metadata": {},
   "source": [
    "### **Calculo del Percentil 50**"
   ]
  },
  {
   "cell_type": "markdown",
   "id": "3d6f8c35",
   "metadata": {},
   "source": [
    "Obtenemos que los decesos son menores al 50% de los casos detectados de hepatitis"
   ]
  },
  {
   "cell_type": "code",
   "execution_count": 99,
   "id": "5bbd0079",
   "metadata": {},
   "outputs": [
    {
     "name": "stdout",
     "output_type": "stream",
     "text": [
      "Calculo del Percentil 50 de decesos:  2.0\n"
     ]
    }
   ],
   "source": [
    "print(\"Calculo del Percentil 50 de decesos: \", percentil('Decesos',50))"
   ]
  },
  {
   "cell_type": "markdown",
   "id": "2e003285",
   "metadata": {},
   "source": [
    "Se obtuvo que hasta el 50% de personas con hepatitis se encuentran entre las edades de 7 a 39 años"
   ]
  },
  {
   "cell_type": "code",
   "execution_count": 100,
   "id": "fc09721a",
   "metadata": {},
   "outputs": [
    {
     "name": "stdout",
     "output_type": "stream",
     "text": [
      "Calculo del Percentil 50 de edades:  39.0\n"
     ]
    }
   ],
   "source": [
    "print(\"Calculo del Percentil 50 de edades: \", percentil('Edad',50))"
   ]
  },
  {
   "cell_type": "markdown",
   "id": "5fb7f4e5",
   "metadata": {},
   "source": [
    "Se obtuvo que hasta el 50% de personas con hepatitis son hombres"
   ]
  },
  {
   "cell_type": "code",
   "execution_count": 101,
   "id": "48b0cd65",
   "metadata": {},
   "outputs": [
    {
     "name": "stdout",
     "output_type": "stream",
     "text": [
      "Calculo del Percentil 50 del sexo del paciente:  1.0\n"
     ]
    }
   ],
   "source": [
    "print(\"Calculo del Percentil 50 del sexo del paciente: \", percentil('Sexo',50))"
   ]
  },
  {
   "cell_type": "markdown",
   "id": "a499be07",
   "metadata": {},
   "source": [
    "Obtenemos que personas que no utilizaron esteroides son menores al 50% en los casos detectados de hepatitis"
   ]
  },
  {
   "cell_type": "code",
   "execution_count": 102,
   "id": "d5c19ff5",
   "metadata": {},
   "outputs": [
    {
     "name": "stdout",
     "output_type": "stream",
     "text": [
      "Calculo del Percentil 50 de pacientes que utilizan Esteroides:  2.0\n"
     ]
    }
   ],
   "source": [
    "print(\"Calculo del Percentil 50 de pacientes que utilizan Esteroides: \", percentil('Esteroides',50))"
   ]
  },
  {
   "cell_type": "markdown",
   "id": "dd8c7eff",
   "metadata": {},
   "source": [
    "Obtenemos que personas que no utilizaron antivirales son menores a 50% en los casos detectados de hepatitis"
   ]
  },
  {
   "cell_type": "code",
   "execution_count": 103,
   "id": "71457148",
   "metadata": {},
   "outputs": [
    {
     "name": "stdout",
     "output_type": "stream",
     "text": [
      "Calculo del Percentil 50 de pacientes que utilizan Antivirales:  2.0\n"
     ]
    }
   ],
   "source": [
    "print(\"Calculo del Percentil 50 de pacientes que utilizan Antivirales: \", percentil('Antivirales',50))"
   ]
  },
  {
   "cell_type": "markdown",
   "id": "87aabc1d",
   "metadata": {},
   "source": [
    "Se obtuvo que, de los datos obtenidos, hasta el 50% de personas con hepatitis no presentaron fatiga"
   ]
  },
  {
   "cell_type": "code",
   "execution_count": 104,
   "id": "2a5a3fc8",
   "metadata": {},
   "outputs": [
    {
     "name": "stdout",
     "output_type": "stream",
     "text": [
      "Calculo del Percentil 50 de Fatiga en pacientes:  1.0\n"
     ]
    }
   ],
   "source": [
    "print(\"Calculo del Percentil 50 de Fatiga en pacientes: \", percentil('Fatiga',50))"
   ]
  },
  {
   "cell_type": "markdown",
   "id": "0ebc68ec",
   "metadata": {},
   "source": [
    "Obtenemos que personas que no presentaron malestar son menores a 50% en los casos detectados de hepatitis"
   ]
  },
  {
   "cell_type": "code",
   "execution_count": 105,
   "id": "23a2ad29",
   "metadata": {},
   "outputs": [
    {
     "name": "stdout",
     "output_type": "stream",
     "text": [
      "Calculo del Percentil 50 de Malestar en pacientes:  2.0\n"
     ]
    }
   ],
   "source": [
    "print(\"Calculo del Percentil 50 de Malestar en pacientes: \", percentil('Malestar',50))"
   ]
  },
  {
   "cell_type": "markdown",
   "id": "f9d8031a",
   "metadata": {},
   "source": [
    "Obtenemos que, de los datos obtenidos, las personas que no tienen anorexia son menores a 50% en los casos detectados de hepatitis"
   ]
  },
  {
   "cell_type": "code",
   "execution_count": 106,
   "id": "eaac44ea",
   "metadata": {},
   "outputs": [
    {
     "name": "stdout",
     "output_type": "stream",
     "text": [
      "Calculo del Percentil 50 de anorexia en pacientes:  2.0\n"
     ]
    }
   ],
   "source": [
    "print(\"Calculo del Percentil 50 de anorexia en pacientes: \", percentil('Anorexia',50))"
   ]
  },
  {
   "cell_type": "markdown",
   "id": "4d6a1faa",
   "metadata": {},
   "source": [
    "Obtenemos que, de los datos obtenidos, las personas que no tienen el higado grande son menores a 50% en los casos detectados de hepatitis"
   ]
  },
  {
   "cell_type": "code",
   "execution_count": 107,
   "id": "880e140a",
   "metadata": {},
   "outputs": [
    {
     "name": "stdout",
     "output_type": "stream",
     "text": [
      "Calculo del Percentil 50 de Higado Grande en pacientes:  2.0\n"
     ]
    }
   ],
   "source": [
    "print(\"Calculo del Percentil 50 de Higado Grande en pacientes: \", percentil('Higado Grande',50))"
   ]
  },
  {
   "cell_type": "markdown",
   "id": "7fc408ca",
   "metadata": {},
   "source": [
    "Obtenemos que, de los datos obtenidos, las personas que no tienen Firmeza del higado son menores a 50% en los casos detectados de hepatitis"
   ]
  },
  {
   "cell_type": "code",
   "execution_count": 108,
   "id": "cb8490f7",
   "metadata": {},
   "outputs": [
    {
     "name": "stdout",
     "output_type": "stream",
     "text": [
      "Calculo del Percentil 50 de la Firmeza del Higado en los pacientes:  2.0\n"
     ]
    }
   ],
   "source": [
    "print(\"Calculo del Percentil 50 de la Firmeza del Higado en los pacientes: \", percentil('Firmeza del Higado',50))"
   ]
  },
  {
   "cell_type": "markdown",
   "id": "28b15a30",
   "metadata": {},
   "source": [
    "Obtenemos que, de los datos obtenidos, las personas que no tienen el bazo pulpable son menores a 50% en los casos detectados de hepatitis"
   ]
  },
  {
   "cell_type": "code",
   "execution_count": 109,
   "id": "6735c383",
   "metadata": {},
   "outputs": [
    {
     "name": "stdout",
     "output_type": "stream",
     "text": [
      "Calculo del Percentil 50 de Bazo pulpable en pacientes:  2.0\n"
     ]
    }
   ],
   "source": [
    "print(\"Calculo del Percentil 50 de Bazo pulpable en pacientes: \", percentil('Bazo Pulpable',50))"
   ]
  },
  {
   "cell_type": "markdown",
   "id": "5b82b06e",
   "metadata": {},
   "source": [
    "Obtenemos que, de los datos obtenidos, las personas que no tienen el Angioma Aracniforme son menores a 50% en los casos detectados de hepatitis"
   ]
  },
  {
   "cell_type": "code",
   "execution_count": 110,
   "id": "fc65d3ef",
   "metadata": {},
   "outputs": [
    {
     "name": "stdout",
     "output_type": "stream",
     "text": [
      "Calculo del Percentil 50 de Angioma aracniforme en pacientes:  2.0\n"
     ]
    }
   ],
   "source": [
    "print(\"Calculo del Percentil 50 de Angioma aracniforme en pacientes: \", percentil('Angioma aracniforme',50))"
   ]
  },
  {
   "cell_type": "markdown",
   "id": "89b08431",
   "metadata": {},
   "source": [
    "Obtenemos que, de los datos obtenidos, las personas que no tienen Ascitis son menores a 50% en los casos detectados de hepatitis"
   ]
  },
  {
   "cell_type": "code",
   "execution_count": 111,
   "id": "025886c7",
   "metadata": {},
   "outputs": [
    {
     "name": "stdout",
     "output_type": "stream",
     "text": [
      "Calculo del Percentil 50 de Ascitis en pacientes:  2.0\n"
     ]
    }
   ],
   "source": [
    "print(\"Calculo del Percentil 50 de Ascitis en pacientes: \", percentil('Ascitis',50))"
   ]
  },
  {
   "cell_type": "markdown",
   "id": "b7b4e470",
   "metadata": {},
   "source": [
    "Obtenemos que, de los datos obtenidos, las personas que tienen niveles de Bilirrubina entre 0.3 y 1.0 se encuentran entre el 50% los casos detectados de hepatitis"
   ]
  },
  {
   "cell_type": "code",
   "execution_count": 113,
   "id": "0a5457a2",
   "metadata": {},
   "outputs": [
    {
     "name": "stdout",
     "output_type": "stream",
     "text": [
      "Calculo del Percentil 50 de Niveles Bilirrubina en pacientes:  1.0\n"
     ]
    }
   ],
   "source": [
    "print(\"Calculo del Percentil 50 de Niveles Bilirrubina en pacientes: \", percentil('Bilirrubina',50))"
   ]
  },
  {
   "cell_type": "markdown",
   "id": "a246e589",
   "metadata": {},
   "source": [
    "Obtenemos que, de los datos obtenidos, las personas que tienen niveles de Fosfatasa Alcalina entre 30 y 85 se encuentran entre el 50% los casos detectados de hepatitis"
   ]
  },
  {
   "cell_type": "code",
   "execution_count": 114,
   "id": "e21a81a3",
   "metadata": {},
   "outputs": [
    {
     "name": "stdout",
     "output_type": "stream",
     "text": [
      "Calculo del Percentil 50 de Niveles Fosfatasa alcalina en pacientes:  85.0\n"
     ]
    }
   ],
   "source": [
    "print(\"Calculo del Percentil 50 de Niveles Fosfatasa alcalina en pacientes: \", percentil('ALP',50))"
   ]
  },
  {
   "cell_type": "markdown",
   "id": "ee54e08c",
   "metadata": {},
   "source": [
    "Obtenemos que, de los datos obtenidos, las personas que tienen niveles de Aspartato Transaminasa entre 13 y 58 se encuentran entre el 50% los casos detectados de hepatitis"
   ]
  },
  {
   "cell_type": "code",
   "execution_count": 115,
   "id": "675050d4",
   "metadata": {},
   "outputs": [
    {
     "name": "stdout",
     "output_type": "stream",
     "text": [
      "Calculo del Percentil 50 de Niveles Aspartato transaminasa en pacientes:  58.0\n"
     ]
    }
   ],
   "source": [
    "print(\"Calculo del Percentil 50 de Niveles Aspartato transaminasa en pacientes: \", percentil('AST',50))"
   ]
  },
  {
   "cell_type": "markdown",
   "id": "c7cb5494",
   "metadata": {},
   "source": [
    "Obtenemos que, de los datos obtenidos, las personas que tienen valores de Albumina entre 2.1 y 4.0 se encuentran entre el 50% los casos detectados de hepatitis"
   ]
  },
  {
   "cell_type": "code",
   "execution_count": 116,
   "id": "49ead150",
   "metadata": {},
   "outputs": [
    {
     "name": "stdout",
     "output_type": "stream",
     "text": [
      "Calculo del Percentil 50 de Niveles Aspartato transaminasa en pacientes:  4.0\n"
     ]
    }
   ],
   "source": [
    "print(\"Calculo del Percentil 50 de Niveles Aspartato transaminasa en pacientes: \", percentil('Albumina',50))"
   ]
  },
  {
   "cell_type": "markdown",
   "id": "057fcfa0",
   "metadata": {},
   "source": [
    "Se obtuvo que, de los datos obtenidos, hasta el 50% de personas con hepatitis no presentan Histologia"
   ]
  },
  {
   "cell_type": "code",
   "execution_count": 117,
   "id": "78efac1d",
   "metadata": {},
   "outputs": [
    {
     "name": "stdout",
     "output_type": "stream",
     "text": [
      "Calculo del Percentil  de Histologia en pacientes:  1.0\n"
     ]
    }
   ],
   "source": [
    "print(\"Calculo del Percentil  de Histologia en pacientes: \", percentil('Histologia',50))"
   ]
  },
  {
   "cell_type": "code",
   "execution_count": null,
   "id": "21a5b9e2",
   "metadata": {},
   "outputs": [],
   "source": []
  }
 ],
 "metadata": {
  "kernelspec": {
   "display_name": "Python 3",
   "language": "python",
   "name": "python3"
  },
  "language_info": {
   "codemirror_mode": {
    "name": "ipython",
    "version": 3
   },
   "file_extension": ".py",
   "mimetype": "text/x-python",
   "name": "python",
   "nbconvert_exporter": "python",
   "pygments_lexer": "ipython3",
   "version": "3.8.8"
  }
 },
 "nbformat": 4,
 "nbformat_minor": 5
}
